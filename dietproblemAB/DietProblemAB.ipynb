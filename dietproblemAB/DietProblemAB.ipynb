{
  "cells": [
    {
      "cell_type": "markdown",
      "metadata": {},
      "source": [
        "\n",
        "<a name=\"top\" id=\"top\"></a>\n",
        "\n",
        "  <div align=\"center\">\n",
        "    <h1>Diet Problem</h1>\n",
        "    <a href=\"https://github.com/abdelane\">Abigail B. Delaney</a>\n",
        "    <br>\n",
        "    <i>Davidson School of Chemical Engineering, Purdue University</i>\n",
        "    <br>\n",
        "    <i>Undergraduate Research Assistant</i>\n",
        "    <br>\n",
        "    <br>\n",
        "    <a href=\"https://github.com/bernalde\">David E. Bernal Neira</a>\n",
        "    <br>\n",
        "    <i>Davidson School of Chemical Engineering, Purdue University</i>\n",
        "    <br>\n",
        "    <br>\n",
        "    <a href = \"https://github.com/Pyomo/PyomoGallery/tree/master/diet\">\n",
        "        <img src=\"https://img.shields.io/badge/-PyomoGallery-blue\" alt=\"PyomoGallery\"/>\n",
        "        </a>\n",
        "    <br>\n",
        "    <a href=\"https://colab.research.google.com/github/abdelane/pyomogallery/blob/main/dietproblemAB/DietProblemAB.ipynb\" target=\"_parent\">\n",
        "        <img src=\"https://colab.research.google.com/assets/colab-badge.svg\" alt=\"Open In Colab\"/>\n",
        "    </a>\n",
        "    <a href=\"https://secquoia.github.io/\">\n",
        "        <img src=\"https://img.shields.io/badge/🌲⚛️🌐-SECQUOIA-blue\" alt=\"SECQUOIA\"/>\n",
        "    </a>\n",
        "</div>"
      ]
    },
    {
      "cell_type": "markdown",
      "metadata": {
        "id": "I-qg8ybC7G7u"
      },
      "source": [
        "# The Diet Problem\n",
        "\n",
        "## Summary\n",
        "\n",
        "The goal of the Diet Problem is to select foods that satisfy daily nutritional requirements at minimum cost. This problem can be formulated as a linear program, for which constraints limit the number of calories and the amount of vitamins, minerals, fats, sodium, and cholesterol in the diet. Danzig (1990) notes that the diet problem was motivated by the US Army's desire to minimize the cost of feeding GIs in the field while still providing a healthy diet.\n",
        "\n"
      ]
    },
    {
      "cell_type": "markdown",
      "metadata": {},
      "source": [
        "Importing necessary functionality to run on local computer or google colab."
      ]
    },
    {
      "cell_type": "code",
      "execution_count": 1,
      "metadata": {},
      "outputs": [],
      "source": [
        "# If using this on Google collab, we need to install the packages\n",
        "try:\n",
        "  import google.colab\n",
        "  IN_COLAB = True\n",
        "except:\n",
        "  IN_COLAB = False\n",
        "\n",
        "# Let's start with Pyomo\n",
        "if IN_COLAB:\n",
        "    !pip install -q pyomo\n",
        "\n",
        "#uploading other files from computer to colab\n",
        "if IN_COLAB:\n",
        "  !wget -q https://raw.githubusercontent.com/Pyomo/PyomoGallery/refs/heads/master/diet/diet.dat\n",
        "\n",
        "# Let's install the LP/MIP solver GLPK\n",
        "if IN_COLAB:\n",
        "    !apt-get install -y -qq glpk-utils\n",
        "    !pip install git+https://github.com/bruscalia/gethighs\n"
      ]
    },
    {
      "cell_type": "markdown",
      "metadata": {},
      "source": [
        "## Problem Statement\n",
        "\n",
        "The Diet Problem can be formulated mathematically as a linear programming problem using the following model.  \n",
        "\n",
        "## Pyomo Formulation\n",
        "\n",
        "We begin by importing the Pyomo package, defining solvers and creating a model object:"
      ]
    },
    {
      "cell_type": "code",
      "execution_count": 2,
      "metadata": {
        "collapsed": true,
        "id": "4XBfqcd77G7w"
      },
      "outputs": [],
      "source": [
        "#imports pyomo package\n",
        "import pyomo.environ as pyo\n",
        "#imports solver HiGHS\n",
        "from gethighs import HiGHS\n",
        "\n",
        "# Define the solver GLPK and HiGHS\n",
        "if IN_COLAB:\n",
        "    opt_glpk = pyo.SolverFactory('glpk', executable='/usr/bin/glpsol')\n",
        "  \n",
        "else:\n",
        "    opt_glpk = pyo.SolverFactory('glpk')\n",
        "    opt_HiGHS = HiGHS()\n",
        "# Here we could use another solver, e.g. gurobi or cplex\n",
        "# opt_gurobi = SolverFactory('gurobi')\n",
        "\n",
        "\n",
        "#sets infinity to a float value\n",
        "infinity = float('inf')\n",
        "\n",
        "#creates an abstract model named model\n",
        "model = pyo.AbstractModel()"
      ]
    },
    {
      "cell_type": "markdown",
      "metadata": {},
      "source": [
        "\n",
        "### Sets\n",
        "\n",
        "The sets $F$ and $N$ are declared abstractly using the `Set` component:\n",
        "\n",
        " $F$ = set of foods  \n",
        " $N$ = set of nutrients"
      ]
    },
    {
      "cell_type": "code",
      "execution_count": 3,
      "metadata": {
        "collapsed": true,
        "id": "DVRnjf0z7G7y"
      },
      "outputs": [],
      "source": [
        "# Foods\n",
        "#creates an empty set of foods that can be filled later\n",
        "model.F = pyo.Set(doc=\"Foods\")\n",
        "\n",
        "\n",
        "# Nutrients\n",
        "#creates an empty set of nutrients that can be filled later\n",
        "model.N = pyo.Set(doc=\"Nutrients\")\n"
      ]
    },
    {
      "cell_type": "markdown",
      "metadata": {
        "id": "0RS2yVrt7G7y"
      },
      "source": [
        "### Parameters\n",
        "\n",
        "Similarly, the model parameters are defined abstractly using the `Param` component:\n",
        "\n",
        " $c_i$ = cost per serving of food $i$, $\\forall i \\in F$  \n",
        " $a_{ij}$ = amount of nutrient $j$ in food $i$, $\\forall i \\in F, \\forall j \\in N$  \n",
        " $Nmin_j$ = minimum level of nutrient $j$, $\\forall j \\in N$  \n",
        " $Nmax_j$ = maximum level of nutrient $j$, $\\forall j \\in N$  \n",
        " $V_i$ = the volume per serving of food $i$, $\\forall i \\in F$  \n",
        " $Vmax$ = maximum volume of food consumed"
      ]
    },
    {
      "cell_type": "code",
      "execution_count": 4,
      "metadata": {
        "id": "HQsiMM5r7G7z"
      },
      "outputs": [],
      "source": [
        "# Cost of each food\n",
        "#creates a parameter for the cost of each food for every item in the set of foods and all costs must be positive and real\n",
        "model.c    = pyo.Param(model.F, within=pyo.PositiveReals, doc='Cost of each food')\n",
        "\n",
        "# Amount of nutrient in each food\n",
        "#creates a parameter for the amount of each nutrient in each food, so it is a parameter for each combination of item from the set of foods and nutrients\n",
        "model.a    = pyo.Param(model.F, model.N, within=pyo.NonNegativeReals, doc='Amount of nutrient in each food')\n",
        "\n",
        "# Lower and upper bound on each nutrient\n",
        "#parameter for the minimum amount of each nutrient, default is 0\n",
        "model.Nmin = pyo.Param(model.N, within=pyo.NonNegativeReals, default=0.0, doc='Lower bound on nutrient')\n",
        "#parameter for the maximum amount of each nutrient, default is infinity\n",
        "model.Nmax = pyo.Param(model.N, within=pyo.NonNegativeReals, default=infinity, doc='Upper bound on nutrient')\n",
        "   \n",
        "# Volume per serving of food\n",
        "#parameter for the volume of each food within set F, must be positive and real\n",
        "model.V    = pyo.Param(model.F, within=pyo.PositiveReals, doc='Volume per serving')\n",
        "\n",
        "# Maximum volume of food consumed\n",
        "model.Vmax = pyo.Param(within=pyo.PositiveReals, doc='Maximum volume of food consumed')\n"
      ]
    },
    {
      "cell_type": "markdown",
      "metadata": {
        "id": "Rn7q0S7p7G7z"
      },
      "source": [
        "### Variables\n",
        " $x_i$ = number of servings of food $i$ to consume\n",
        "\n",
        "### Constraint\n",
        "Consumption lower bound  \n",
        " $x_i \\geq 0$, $\\forall i \\in F$\n",
        " \n",
        "The `within` option is used in these parameter declarations to define expected properties of the parameters.  This information is used to perform error checks on the data that is used to initialize the parameter components.    \n",
        "The `Var` component is used to define the decision variables:"
      ]
    },
    {
      "cell_type": "code",
      "execution_count": 5,
      "metadata": {
        "collapsed": true,
        "id": "_PA6K9b17G7z"
      },
      "outputs": [],
      "source": [
        "# Number of servings consumed of each food\n",
        "#integer variable for the number of servings of each food in set F, must be greater than or equal to 0\n",
        "model.x = pyo.Var(model.F, within=pyo.NonNegativeIntegers, doc='Number of servings consumed of each food')"
      ]
    },
    {
      "cell_type": "markdown",
      "metadata": {
        "id": "s8OC_dDh7G70"
      },
      "source": [
        "### Objective\n",
        "\n",
        "Minimize the total cost of the food  \n",
        " $\\min \\sum_{i \\in F} c_i x_i$\n",
        "\n",
        "The `within` option is used to restrict the domain of the decision variables to the non-negative reals. This eliminates the need for explicit bound constraints for variables.\n",
        "\n",
        "The `Objective` component is used to define the cost objective.  This component uses a rule function to construct the objective expression:"
      ]
    },
    {
      "cell_type": "code",
      "execution_count": 6,
      "metadata": {
        "collapsed": true,
        "id": "51oQOo0u7G70"
      },
      "outputs": [],
      "source": [
        "# Minimize the cost of food that is consumed\n",
        "#defines a function to minimize the cost of food in model\n",
        "def cost_rule(model):\n",
        "    \"\"\"\n",
        "    Function to define the objective function for the model\n",
        "\n",
        "    Parameters\n",
        "    ----------\n",
        "    model (AbstractModel): The model for which the objective function\n",
        "\n",
        "    Returns\n",
        "    -------\n",
        "    (None): The expression for the objective function\n",
        "    \"\"\"\n",
        "    #returns the sum of the cost of each food times the number of servings of that food i within the set of food F\n",
        "    return sum(model.c[i]*model.x[i] for i in model.F)\n",
        "#returns the objective function for the model where the cost of food times number of servings in summed over all foods\n",
        "model.cost = pyo.Objective(rule=cost_rule, doc='sum of the total cost of all food')\n"
      ]
    },
    {
      "cell_type": "markdown",
      "metadata": {
        "id": "S33J2jjc7G70"
      },
      "source": [
        "### Constraints\n",
        "\n",
        "Limit nutrient consumption for each nutrient $j \\in N$.  \n",
        " $Nmin_j \\leq \\sum_{i \\in F} a_{ij} x_i \\leq Nmax_j$, $\\forall j \\in N$\n",
        "\n",
        "Limit the volume of food consumed  \n",
        " $\\sum_{i \\in F} V_i x_i \\leq Vmax$\n",
        "\n",
        "Consumption lower bound (included in definition of the variable $x$)      \n",
        " $x_i \\geq 0$, $\\forall i \\in F$\n",
        "\n",
        "Similarly, rule functions are used to define constraint expressions in the `Constraint` component:"
      ]
    },
    {
      "cell_type": "code",
      "execution_count": 7,
      "metadata": {
        "collapsed": true,
        "id": "pfjN0I_d7G71"
      },
      "outputs": [],
      "source": [
        "# Limit nutrient consumption for each nutrient\n",
        "#defines constraint on the model using j to iterate over the set of nutrients and i to iterate over set of foods\n",
        "def nutrient_rule(model, j):\n",
        "    \"\"\"\n",
        "    Function to define the constraint for the model\n",
        "\n",
        "    Parameters\n",
        "    ----------\n",
        "    model (AbstractModel): The model for which the constraint is defined\n",
        "    j (int): The index of the nutrient for which the constraint is defined\n",
        "\n",
        "    Returns\n",
        "    -------\n",
        "    (Constraint): The constraint for the model\n",
        "    \"\"\"\n",
        "    #sums the amount of nutrient in each food times the number of servings for all foods in set F\n",
        "    value = sum(model.a[i,j]*model.x[i] for i in model.F)\n",
        "    #returns the inequality that the amount of nutrient in the food must be less than the max number of nutrients and more than the min number of nutrients\n",
        "    return pyo.inequality(model.Nmin[j], value, model.Nmax[j])\n",
        "#returns the constraint for the model that the nutrient limit must be satisfied for all nutrients\n",
        "model.nutrient_limit = pyo.Constraint(model.N, rule=nutrient_rule, doc='Limit nutrient consumption for each nutrient')\n",
        "\n",
        "# Limit the volume of food consumed\n",
        "#defines another constraint on the volume of food consumed in the model\n",
        "def volume_rule(model):\n",
        "    \"\"\"\n",
        "    Function to define the constraint for the model\n",
        "\n",
        "    Parameters\n",
        "    ----------\n",
        "    model (AbstractModel): The model for which the constraint is defined\n",
        "\n",
        "    Returns\n",
        "    -------\n",
        "    (Constraint): The constraint for the model\n",
        "    \"\"\"\n",
        "    #returns the constraint that the sum of the volume of food times the number of servings for each food in the set F and ensures it is less than the max volume\n",
        "    return sum(model.V[i]*model.x[i] for i in model.F) <= model.Vmax\n",
        "#returns the constraint for the model that the volume of food consumed must be less than the max volume\n",
        "model.volume = pyo.Constraint(rule=volume_rule, doc='Limit the volume of food consumed')"
      ]
    },
    {
      "cell_type": "markdown",
      "metadata": {
        "id": "-tp_jGZC7G72"
      },
      "source": [
        "## Model Data\n",
        "\n",
        "Since this is an abstract Pyomo model, the set and parameter values need to be provided to initialize the model.  The following data command file provides a synthetic data set:"
      ]
    },
    {
      "cell_type": "code",
      "execution_count": 8,
      "metadata": {
        "colab": {
          "base_uri": "https://localhost:8080/"
        },
        "id": "zxiAq9aE7G73",
        "outputId": "7901574e-c4b9-4435-e773-fbf621dca445"
      },
      "outputs": [
        {
          "name": "stdout",
          "output_type": "stream",
          "text": [
            "param:  F:                          c     V  :=\n",
            "  \"Cheeseburger\"                 1.84   4.0  \n",
            "  \"Ham Sandwich\"                 2.19   7.5  \n",
            "  \"Hamburger\"                    1.84   3.5  \n",
            "  \"Fish Sandwich\"                1.44   5.0  \n",
            "  \"Chicken Sandwich\"             2.29   7.3  \n",
            "  \"Fries\"                         .77   2.6  \n",
            "  \"Sausage Biscuit\"              1.29   4.1  \n",
            "  \"Lowfat Milk\"                   .60   8.0 \n",
            "  \"Orange Juice\"                  .72  12.0 ;\n",
            "\n",
            "param Vmax := 75.0;\n",
            "\n",
            "param:  N:       Nmin   Nmax :=\n",
            "        Cal      2000      .\n",
            "        Carbo     350    375\n",
            "        Protein    55      .\n",
            "        VitA      100      .\n",
            "        VitC      100      .\n",
            "        Calc      100      .\n",
            "        Iron      100      . ;\n",
            "\n",
            "param a:\n",
            "                               Cal  Carbo Protein   VitA   VitC  Calc  Iron :=\n",
            "  \"Cheeseburger\"               510     34     28     15      6    30    20\n",
            "  \"Ham Sandwich\"               370     35     24     15     10    20    20\n",
            "  \"Hamburger\"                  500     42     25      6      2    25    20\n",
            "  \"Fish Sandwich\"              370     38     14      2      0    15    10\n",
            "  \"Chicken Sandwich\"           400     42     31      8     15    15     8\n",
            "  \"Fries\"                      220     26      3      0     15     0     2\n",
            "  \"Sausage Biscuit\"            345     27     15      4      0    20    15\n",
            "  \"Lowfat Milk\"                110     12      9     10      4    30     0\n",
            "  \"Orange Juice\"                80     20      1      2    120     2     2 ;\n"
          ]
        }
      ],
      "source": [
        "!cat diet.dat"
      ]
    },
    {
      "cell_type": "markdown",
      "metadata": {
        "id": "VM23T59c7G73"
      },
      "source": [
        "Set data is defined with the `set` command, and parameter data is defined with the `param` command.\n",
        "\n",
        "This data set considers the problem of designing a daily diet with only food from a fast food chain.\n",
        "\n",
        "## Solution\n",
        "\n",
        "Pyomo includes a `pyomo` command that automates the construction and optimization of models.  The GLPK solver can be used in this simple example:"
      ]
    },
    {
      "cell_type": "markdown",
      "metadata": {},
      "source": [
        "Create a model instance including data uploaded from external file, and then solve."
      ]
    },
    {
      "cell_type": "code",
      "execution_count": 9,
      "metadata": {},
      "outputs": [
        {
          "name": "stdout",
          "output_type": "stream",
          "text": [
            "Model unknown\n",
            "\n",
            "  Variables:\n",
            "    x : Number of servings consumed of each food\n",
            "        Size=9, Index=F\n",
            "        Key              : Lower : Value : Upper : Fixed : Stale : Domain\n",
            "            Cheeseburger :     0 :   4.0 :  None : False : False : NonNegativeIntegers\n",
            "        Chicken Sandwich :     0 :   0.0 :  None : False : False : NonNegativeIntegers\n",
            "           Fish Sandwich :     0 :   1.0 :  None : False : False : NonNegativeIntegers\n",
            "                   Fries :     0 :   5.0 :  None : False : False : NonNegativeIntegers\n",
            "            Ham Sandwich :     0 :   0.0 :  None : False : False : NonNegativeIntegers\n",
            "               Hamburger :     0 :   0.0 :  None : False : False : NonNegativeIntegers\n",
            "             Lowfat Milk :     0 :   4.0 :  None : False : False : NonNegativeIntegers\n",
            "            Orange Juice :     0 :   0.0 :  None : False : False : NonNegativeIntegers\n",
            "         Sausage Biscuit :     0 :   0.0 :  None : False : False : NonNegativeIntegers\n",
            "\n",
            "  Objectives:\n",
            "    cost : Size=1, Index=None, Active=True\n",
            "        Key  : Active : Value\n",
            "        None :   True : 15.05\n",
            "\n",
            "  Constraints:\n",
            "    nutrient_limit : Size=7\n",
            "        Key     : Lower  : Body   : Upper\n",
            "            Cal : 2000.0 : 3950.0 :  None\n",
            "           Calc :  100.0 :  255.0 :  None\n",
            "          Carbo :  350.0 :  352.0 : 375.0\n",
            "           Iron :  100.0 :  100.0 :  None\n",
            "        Protein :   55.0 :  177.0 :  None\n",
            "           VitA :  100.0 :  102.0 :  None\n",
            "           VitC :  100.0 :  115.0 :  None\n",
            "    volume : Size=1\n",
            "        Key  : Lower : Body : Upper\n",
            "        None :  None : 66.0 :  75.0\n"
          ]
        }
      ],
      "source": [
        "#creating a model instance for the abstract model using the data in diet.dat\n",
        "instance = model.create_instance('diet.dat')\n",
        "\n",
        "# We obtain the solution of model instance with highs solver\n",
        "result_obj = opt_highs.solve(instance, tee=False)\n",
        "instance.display()"
      ]
    },
    {
      "cell_type": "markdown",
      "metadata": {
        "id": "mdoJXMqs7G74"
      },
      "source": [
        "This solution shows that for about $15 per day, a person can get by with 4\n",
        "cheeseburgers, 5 fries, 1 fish sandwich and 4 milks."
      ]
    },
    {
      "cell_type": "markdown",
      "metadata": {
        "id": "2alkb6aS7G75"
      },
      "source": [
        "## References\n",
        "\n",
        "* G.B. Dantzig. The Diet Problem, Interfaces 20(4), 1990, 43-47"
      ]
    }
  ],
  "metadata": {
    "colab": {
      "provenance": []
    },
    "kernelspec": {
      "display_name": "quipml",
      "language": "python",
      "name": "python3"
    },
    "language_info": {
      "codemirror_mode": {
        "name": "ipython",
        "version": 3
      },
      "file_extension": ".py",
      "mimetype": "text/x-python",
      "name": "python",
      "nbconvert_exporter": "python",
      "pygments_lexer": "ipython3",
      "version": "3.8.11"
    }
  },
  "nbformat": 4,
  "nbformat_minor": 0
}
