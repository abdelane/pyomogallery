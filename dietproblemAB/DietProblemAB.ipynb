{
  "cells": [
    {
      "cell_type": "markdown",
      "metadata": {},
      "source": [
        "{\n",
        " \"cells\": [\n",
        "  {\n",
        "   \"cell_type\": \"markdown\",\n",
        "   \"metadata\": {},\n",
        "   \"source\": [\n",
        "    \"<a name=\\\"top\\\" id=\\\"top\\\"></a>\\n\",\n",
        "    \"\\n\",\n",
        "    \"<div align=\\\"center\\\">\\n\",\n",
        "    \"    <h1>Diet Problem</h1>\\n\",\n",
        "    \"    <a href=\\\"https://github.com/bernalde\\\">David E. Bernal Neira</a>\\n\",\n",
        "    \"    <br>\\n\",\n",
        "    \"    <i>Davidson School of Chemical Engineering, Purdue University</i>\\n\",\n",
        "    \"    <br>\\n\",\n",
        "    \"    <i>Universities Space Research Association</i>\\n\",\n",
        "    \"    <br>\\n\",\n",
        "    \"    <i>NASA QuAIL</i>\\n\",\n",
        "    \"    <br>\\n\",\n",
        "    \"    <br>\\n\",\n",
        "    \"    <a href=\\\"https://github.com/abdelane\">Abigail B. Delaney</a>\\n\",\n",
        "    \"    <br>\\n\",\n",
        "    \"    <i>Davidson School of Chemical Engineering, Purdue University</i>\\n\",\n",
        "    \"    <br>\\n\",\n",
        "    \"    <i>Undergraduate Research Assistant</i>\\n\",\n",
        "    \"    <br>\\n\",\n",
        "    \"    <br>\\n\",\n",
        "    \"    <a href=\\\"https://secquoia.github.io/\\\">\\n\",\n",
        "    \"        <img src=\\\"https://img.shields.io/badge/🌲⚛️🌐-SECQUOIA-blue\\\" alt=\\\"SECQUOIA\\\"/>\\n\",\n",
        "    \"    </a>\\n\",\n",
        "    \"</div>\"\n",
        "   ]\n",
        "  },"
      ]
    },
    {
      "cell_type": "markdown",
      "metadata": {
        "id": "I-qg8ybC7G7u"
      },
      "source": [
        "# The Diet Problem\n",
        "\n",
        "## Summary\n",
        "\n",
        "The goal of the Diet Problem is to select foods that satisfy daily nutritional requirements at minimum cost. This problem can be formulated as a linear program, for which constraints limit the number of calories and the amount of vitamins, minerals, fats, sodium, and cholesterol in the diet. Danzig (1990) notes that the diet problem was motivated by the US Army's desire to minimize the cost of feeding GIs in the field while still providing a healthy diet.\n",
        "\n",
        "## Problem Statement\n",
        "\n",
        "The Diet Problem can be formulated mathematically as a linear programming problem using the following model.  \n",
        "\n",
        "### Sets\n",
        "\n",
        " $F$ = set of foods  \n",
        " $N$ = set of nutrients\n",
        "\n",
        "### Parameters\n",
        "\n",
        " $c_i$ = cost per serving of food $i$, $\\forall i \\in F$  \n",
        " $a_{ij}$ = amount of nutrient $j$ in food $i$, $\\forall i \\in F, \\forall j \\in N$  \n",
        " $Nmin_j$ = minimum level of nutrient $j$, $\\forall j \\in N$  \n",
        " $Nmax_j$ = maximum level of nutrient $j$, $\\forall j \\in N$  \n",
        " $V_i$ = the volume per serving of food $i$, $\\forall i \\in F$  \n",
        " $Vmax$ = maximum volume of food consumed\n",
        "\n",
        "### Variables\n",
        " $x_i$ = number of servings of food $i$ to consume\n",
        "\n",
        "### Objective\n",
        "\n",
        "Minimize the total cost of the food  \n",
        " $\\min \\sum_{i \\in F} c_i x_i$\n",
        "\n",
        "### Constraints\n",
        "\n",
        "Limit nutrient consumption for each nutrient $j \\in N$.  \n",
        " $Nmin_j \\leq \\sum_{i \\in F} a_{ij} x_i \\leq Nmax_j$, $\\forall j \\in N$\n",
        "\n",
        "Limit the volume of food consumed  \n",
        " $\\sum_{i \\in F} V_i x_i \\leq Vmax$\n",
        "\n",
        "Consumption lower bound  \n",
        " $x_i \\geq 0$, $\\forall i \\in F$\n",
        "\n",
        "## Pyomo Formulation\n",
        "\n",
        "We begin by importing the Pyomo package and creating a model object:"
      ]
    },
    {
      "cell_type": "code",
      "execution_count": 31,
      "metadata": {
        "colab": {
          "base_uri": "https://localhost:8080/"
        },
        "id": "KCotnYgr7ZAy",
        "outputId": "99d951a1-7ca0-4764-920a-f21c1872e244"
      },
      "outputs": [
        {
          "name": "stdout",
          "output_type": "stream",
          "text": [
            "--2024-09-21 19:58:08--  https://raw.githubusercontent.com/Pyomo/PyomoGallery/refs/heads/master/diet/diet.dat\n",
            "Resolving raw.githubusercontent.com (raw.githubusercontent.com)... 185.199.110.133, 185.199.108.133, 185.199.111.133, ...\n",
            "Connecting to raw.githubusercontent.com (raw.githubusercontent.com)|185.199.110.133|:443... connected.\n",
            "HTTP request sent, awaiting response... 200 OK\n",
            "Length: 1486 (1.5K) [text/plain]\n",
            "Saving to: ‘diet.dat.1’\n",
            "\n",
            "\rdiet.dat.1            0%[                    ]       0  --.-KB/s               \rdiet.dat.1          100%[===================>]   1.45K  --.-KB/s    in 0s      \n",
            "\n",
            "2024-09-21 19:58:08 (23.9 MB/s) - ‘diet.dat.1’ saved [1486/1486]\n",
            "\n",
            "--2024-09-21 19:58:08--  https://raw.githubusercontent.com/Pyomo/PyomoGallery/refs/heads/master/diet/diet.py\n",
            "Resolving raw.githubusercontent.com (raw.githubusercontent.com)... 185.199.108.133, 185.199.110.133, 185.199.109.133, ...\n",
            "Connecting to raw.githubusercontent.com (raw.githubusercontent.com)|185.199.108.133|:443... connected.\n",
            "HTTP request sent, awaiting response... 200 OK\n",
            "Length: 1317 (1.3K) [text/plain]\n",
            "Saving to: ‘diet.py’\n",
            "\n",
            "diet.py             100%[===================>]   1.29K  --.-KB/s    in 0s      \n",
            "\n",
            "2024-09-21 19:58:08 (42.6 MB/s) - ‘diet.py’ saved [1317/1317]\n",
            "\n",
            "--2024-09-21 19:58:08--  https://raw.githubusercontent.com/Pyomo/PyomoGallery/refs/heads/master/diet/results.yml\n",
            "Resolving raw.githubusercontent.com (raw.githubusercontent.com)... 185.199.109.133, 185.199.110.133, 185.199.108.133, ...\n",
            "Connecting to raw.githubusercontent.com (raw.githubusercontent.com)|185.199.109.133|:443... connected.\n",
            "HTTP request sent, awaiting response... 200 OK\n",
            "Length: 1355 (1.3K) [text/plain]\n",
            "Saving to: ‘results.yml’\n",
            "\n",
            "results.yml         100%[===================>]   1.32K  --.-KB/s    in 0s      \n",
            "\n",
            "2024-09-21 19:58:08 (80.3 MB/s) - ‘results.yml’ saved [1355/1355]\n",
            "\n"
          ]
        }
      ],
      "source": [
        "# If using this on Google collab, we need to install the packages\n",
        "try:\n",
        "  import google.colab\n",
        "  IN_COLAB = True\n",
        "except:\n",
        "  IN_COLAB = False\n",
        "\n",
        "# Let's start with Pyomo\n",
        "if IN_COLAB:\n",
        "    !pip install -q pyomo\n",
        "\n",
        "#uploading other files from computer to colab\n",
        "if IN_COLAB:\n",
        "  !wget https://raw.githubusercontent.com/Pyomo/PyomoGallery/refs/heads/master/diet/diet.dat\n",
        "  !wget https://raw.githubusercontent.com/Pyomo/PyomoGallery/refs/heads/master/diet/diet.py\n",
        "  !wget https://raw.githubusercontent.com/Pyomo/PyomoGallery/refs/heads/master/diet/results.yml\n"
      ]
    },
    {
      "cell_type": "code",
      "execution_count": 32,
      "metadata": {
        "collapsed": true,
        "id": "4XBfqcd77G7w"
      },
      "outputs": [],
      "source": [
        "from pyomo.environ import *\n",
        "infinity = float('inf')\n",
        "\n",
        "model = AbstractModel()"
      ]
    },
    {
      "cell_type": "markdown",
      "metadata": {
        "id": "edDbJ2gv7G7x"
      },
      "source": [
        "The sets $F$ and $N$ are declared abstractly using the `Set` component:"
      ]
    },
    {
      "cell_type": "code",
      "execution_count": 33,
      "metadata": {
        "collapsed": true,
        "id": "DVRnjf0z7G7y"
      },
      "outputs": [],
      "source": [
        "# Foods\n",
        "model.F = Set()\n",
        "# Nutrients\n",
        "model.N = Set()"
      ]
    },
    {
      "cell_type": "markdown",
      "metadata": {
        "id": "0RS2yVrt7G7y"
      },
      "source": [
        "Similarly, the model parameters are defined abstractly using the `Param` component:"
      ]
    },
    {
      "cell_type": "code",
      "execution_count": 34,
      "metadata": {
        "id": "HQsiMM5r7G7z"
      },
      "outputs": [],
      "source": [
        "# Cost of each food\n",
        "model.c    = Param(model.F, within=PositiveReals)\n",
        "# Amount of nutrient in each food\n",
        "model.a    = Param(model.F, model.N, within=NonNegativeReals)\n",
        "# Lower and upper bound on each nutrient\n",
        "model.Nmin = Param(model.N, within=NonNegativeReals, default=0.0)\n",
        "model.Nmax = Param(model.N, within=NonNegativeReals, default=infinity)\n",
        "# Volume per serving of food\n",
        "model.V    = Param(model.F, within=PositiveReals)\n",
        "# Maximum volume of food consumed\n",
        "model.Vmax = Param(within=PositiveReals)"
      ]
    },
    {
      "cell_type": "markdown",
      "metadata": {
        "id": "Rn7q0S7p7G7z"
      },
      "source": [
        "The `within` option is used in these parameter declarations to define expected properties of the parameters.  This information is used to perform error checks on the data that is used to initialize the parameter components.\n",
        "\n",
        "The `Var` component is used to define the decision variables:"
      ]
    },
    {
      "cell_type": "code",
      "execution_count": 35,
      "metadata": {
        "collapsed": true,
        "id": "_PA6K9b17G7z"
      },
      "outputs": [],
      "source": [
        "# Number of servings consumed of each food\n",
        "model.x = Var(model.F, within=NonNegativeIntegers)"
      ]
    },
    {
      "cell_type": "markdown",
      "metadata": {
        "id": "s8OC_dDh7G70"
      },
      "source": [
        "The `within` option is used to restrict the domain of the decision variables to the non-negative reals. This eliminates the need for explicit bound constraints for variables.\n",
        "\n",
        "The `Objective` component is used to define the cost objective.  This component uses a rule function to construct the objective expression:"
      ]
    },
    {
      "cell_type": "code",
      "execution_count": 36,
      "metadata": {
        "collapsed": true,
        "id": "51oQOo0u7G70"
      },
      "outputs": [],
      "source": [
        "# Minimize the cost of food that is consumed\n",
        "def cost_rule(model):\n",
        "    return sum(model.c[i]*model.x[i] for i in model.F)\n",
        "model.cost = Objective(rule=cost_rule)"
      ]
    },
    {
      "cell_type": "markdown",
      "metadata": {
        "id": "S33J2jjc7G70"
      },
      "source": [
        "Similarly, rule functions are used to define constraint expressions in the `Constraint` component:"
      ]
    },
    {
      "cell_type": "code",
      "execution_count": 37,
      "metadata": {
        "collapsed": true,
        "id": "pfjN0I_d7G71"
      },
      "outputs": [],
      "source": [
        "# Limit nutrient consumption for each nutrient\n",
        "def nutrient_rule(model, j):\n",
        "    value = sum(model.a[i,j]*model.x[i] for i in model.F)\n",
        "    return inequality(model.Nmin[j], value, model.Nmax[j])\n",
        "model.nutrient_limit = Constraint(model.N, rule=nutrient_rule)\n",
        "\n",
        "# Limit the volume of food consumed\n",
        "def volume_rule(model):\n",
        "    return sum(model.V[i]*model.x[i] for i in model.F) <= model.Vmax\n",
        "model.volume = Constraint(rule=volume_rule)"
      ]
    },
    {
      "cell_type": "markdown",
      "metadata": {
        "id": "MbnVP9Fn7G71"
      },
      "source": [
        "Putting these declarations all together gives the following model:"
      ]
    },
    {
      "cell_type": "code",
      "execution_count": 38,
      "metadata": {
        "id": "yEO-KGTp7G71"
      },
      "outputs": [],
      "source": [
        "!cat diet.py"
      ]
    },
    {
      "cell_type": "markdown",
      "metadata": {
        "id": "-tp_jGZC7G72"
      },
      "source": [
        "## Model Data\n",
        "\n",
        "Since this is an abstract Pyomo model, the set and parameter values need to be provided to initialize the model.  The following data command file provides a synthetic data set:"
      ]
    },
    {
      "cell_type": "code",
      "execution_count": 39,
      "metadata": {
        "colab": {
          "base_uri": "https://localhost:8080/"
        },
        "id": "zxiAq9aE7G73",
        "outputId": "7901574e-c4b9-4435-e773-fbf621dca445"
      },
      "outputs": [
        {
          "name": "stdout",
          "output_type": "stream",
          "text": [
            "param:  F:                          c     V  :=\n",
            "  \"Cheeseburger\"                 1.84   4.0  \n",
            "  \"Ham Sandwich\"                 2.19   7.5  \n",
            "  \"Hamburger\"                    1.84   3.5  \n",
            "  \"Fish Sandwich\"                1.44   5.0  \n",
            "  \"Chicken Sandwich\"             2.29   7.3  \n",
            "  \"Fries\"                         .77   2.6  \n",
            "  \"Sausage Biscuit\"              1.29   4.1  \n",
            "  \"Lowfat Milk\"                   .60   8.0 \n",
            "  \"Orange Juice\"                  .72  12.0 ;\n",
            "\n",
            "param Vmax := 75.0;\n",
            "\n",
            "param:  N:       Nmin   Nmax :=\n",
            "        Cal      2000      .\n",
            "        Carbo     350    375\n",
            "        Protein    55      .\n",
            "        VitA      100      .\n",
            "        VitC      100      .\n",
            "        Calc      100      .\n",
            "        Iron      100      . ;\n",
            "\n",
            "param a:\n",
            "                               Cal  Carbo Protein   VitA   VitC  Calc  Iron :=\n",
            "  \"Cheeseburger\"               510     34     28     15      6    30    20\n",
            "  \"Ham Sandwich\"               370     35     24     15     10    20    20\n",
            "  \"Hamburger\"                  500     42     25      6      2    25    20\n",
            "  \"Fish Sandwich\"              370     38     14      2      0    15    10\n",
            "  \"Chicken Sandwich\"           400     42     31      8     15    15     8\n",
            "  \"Fries\"                      220     26      3      0     15     0     2\n",
            "  \"Sausage Biscuit\"            345     27     15      4      0    20    15\n",
            "  \"Lowfat Milk\"                110     12      9     10      4    30     0\n",
            "  \"Orange Juice\"                80     20      1      2    120     2     2 ;\n"
          ]
        }
      ],
      "source": [
        "!cat diet.dat"
      ]
    },
    {
      "cell_type": "markdown",
      "metadata": {
        "id": "VM23T59c7G73"
      },
      "source": [
        "Set data is defined with the `set` command, and parameter data is defined with the `param` command.\n",
        "\n",
        "This data set considers the problem of designing a daily diet with only food from a fast food chain.\n",
        "\n",
        "## Solution\n",
        "\n",
        "Pyomo includes a `pyomo` command that automates the construction and optimization of models.  The GLPK solver can be used in this simple example:"
      ]
    },
    {
      "cell_type": "code",
      "execution_count": 40,
      "metadata": {
        "colab": {
          "base_uri": "https://localhost:8080/"
        },
        "id": "pOK90DsL7G73",
        "outputId": "a5cdf657-c001-4a51-a6d2-dc97411b36d4"
      },
      "outputs": [
        {
          "name": "stdout",
          "output_type": "stream",
          "text": [
            "[    0.00] Setting up Pyomo environment\n",
            "[    0.00] Applying Pyomo preprocessing actions\n",
            "[    0.00] Creating model\n",
            "[    0.05] Applying solver\n",
            "WARNING: Could not locate the 'glpsol' executable, which is required for\n",
            "solver 'glpk'\n",
            "[    0.05] Pyomo Finished\n",
            "ERROR: Unexpected exception while running model:\n",
            "        No executable found for solver 'glpk'\n"
          ]
        }
      ],
      "source": [
        "!pyomo solve --solver=glpk diet.py diet.dat"
      ]
    },
    {
      "cell_type": "markdown",
      "metadata": {
        "id": "AU2OBdZO7G74"
      },
      "source": [
        "By default, the optimization results are stored in the file `results.yml`:"
      ]
    },
    {
      "cell_type": "code",
      "execution_count": 41,
      "metadata": {
        "colab": {
          "base_uri": "https://localhost:8080/"
        },
        "id": "ZbPQJuw17G74",
        "outputId": "2402b076-fb0d-46d2-f691-55e7de64f4bb"
      },
      "outputs": [
        {
          "name": "stdout",
          "output_type": "stream",
          "text": [
            "# ==========================================================\n",
            "# = Solver Results                                         =\n",
            "# ==========================================================\n",
            "# ----------------------------------------------------------\n",
            "#   Problem Information\n",
            "# ----------------------------------------------------------\n",
            "Problem: \n",
            "- Name: unknown\n",
            "  Lower bound: 15.05\n",
            "  Upper bound: 15.05\n",
            "  Number of objectives: 1\n",
            "  Number of constraints: 10\n",
            "  Number of variables: 10\n",
            "  Number of nonzeros: 77\n",
            "  Sense: minimize\n",
            "# ----------------------------------------------------------\n",
            "#   Solver Information\n",
            "# ----------------------------------------------------------\n",
            "Solver: \n",
            "- Status: ok\n",
            "  Termination condition: optimal\n",
            "  Statistics: \n",
            "    Branch and bound: \n",
            "      Number of bounded subproblems: 89\n",
            "      Number of created subproblems: 89\n",
            "  Error rc: 0\n",
            "  Time: 0.00977396965027\n",
            "# ----------------------------------------------------------\n",
            "#   Solution Information\n",
            "# ----------------------------------------------------------\n",
            "Solution: \n",
            "- number of solutions: 1\n",
            "  number of solutions displayed: 1\n",
            "- Gap: 0.0\n",
            "  Status: optimal\n",
            "  Message: None\n",
            "  Objective:\n",
            "    cost:\n",
            "      Value: 15.05\n",
            "  Variable:\n",
            "    x[Cheeseburger]:\n",
            "      Value: 4\n",
            "    x[Fries]:\n",
            "      Value: 5\n",
            "    x[Fish Sandwich]:\n",
            "      Value: 1\n",
            "    x[Lowfat Milk]:\n",
            "      Value: 4\n",
            "  Constraint: No values\n"
          ]
        }
      ],
      "source": [
        "!cat results.yml"
      ]
    },
    {
      "cell_type": "markdown",
      "metadata": {
        "id": "mdoJXMqs7G74"
      },
      "source": [
        "This solution shows that for about $15 per day, a person can get by with 4\n",
        "cheeseburgers, 5 fries, 1 fish sandwich and 4 milks."
      ]
    },
    {
      "cell_type": "markdown",
      "metadata": {
        "id": "2alkb6aS7G75"
      },
      "source": [
        "## References\n",
        "\n",
        "* G.B. Dantzig. The Diet Problem, Interfaces 20(4), 1990, 43-47"
      ]
    }
  ],
  "metadata": {
    "colab": {
      "provenance": []
    },
    "kernelspec": {
      "display_name": "Python 3",
      "language": "python",
      "name": "python3"
    },
    "language_info": {
      "codemirror_mode": {
        "name": "ipython",
        "version": 3
      },
      "file_extension": ".py",
      "mimetype": "text/x-python",
      "name": "python",
      "nbconvert_exporter": "python",
      "pygments_lexer": "ipython3",
      "version": "3.6.1"
    }
  },
  "nbformat": 4,
  "nbformat_minor": 0
}
