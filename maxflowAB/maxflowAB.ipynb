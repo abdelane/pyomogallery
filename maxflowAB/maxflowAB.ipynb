{
 "cells": [
  {
   "cell_type": "markdown",
   "metadata": {},
   "source": [
    "\n",
    "<a name=\"top\" id=\"top\"></a>\n",
    "\n",
    "  <div align=\"center\">\n",
    "    <h1>Max Flow</h1>\n",
    "   <a href=\"https://github.com/abdelane\">Abigail B. Delaney</a>\n",
    "    <br>\n",
    "    <i>Davidson School of Chemical Engineering, Purdue University</i>\n",
    "    <br>\n",
    "    <i>Undergraduate Research Assistant</i>\n",
    "    <br>\n",
    "    <br>\n",
    "    <a href=\"https://github.com/bernalde\">David E. Bernal Neira</a>\n",
    "    <br>\n",
    "    <i>Davidson School of Chemical Engineering, Purdue University</i>\n",
    "    <br>\n",
    "    <br>\n",
    "    <a href = \"https://github.com/Pyomo/PyomoGallery/tree/master/maxflow\">\n",
    "        <img src=\"https://img.shields.io/badge/-PyomoGallery-blue\" alt=\"PyomoGallery\"/>\n",
    "        </a>\n",
    "    <br>\n",
    "    <a href=\"https://colab.research.google.com/github/abdelane/pyomogallery/blob/main/maxflowAB/maxflowAB.ipynb\" target=\"_parent\">\n",
    "        <img src=\"https://colab.research.google.com/assets/colab-badge.svg\" alt=\"Open In Colab\"/>\n",
    "    </a>\n",
    "    <a href=\"https://secquoia.github.io/\">\n",
    "        <img src=\"https://img.shields.io/badge/🌲⚛️🌐-SECQUOIA-blue\" alt=\"SECQUOIA\"/>\n",
    "    </a>\n",
    "</div>"
   ]
  },
  {
   "cell_type": "markdown",
   "metadata": {},
   "source": [
    "# Max Flow\n",
    "\n",
    "## Summary\n",
    "\n",
    "The goal of the maximum flow problem is to find the maximum flow possible in a network from some given source node to a given sink node.  Applications of the max flow problem include finding the maximum flow of orders through a job shop, the maximum flow of water through a storm sewer system, and the maximum flow of product through a product distribution system, among others. Schrijver (2002) note that the maximum flow problem was first formulated in 1954 by T. E. Harris and F. S. Ross as a simplified model of Soviet railway traffic flow.\n",
    "\n",
    "A network is a directed graph, and the arc capacities, or upper bounds, are the only relevant parameters.  A network graph does not have to be symmetric: if an arc (v,w) is in the graph, the reverse arc (w,v) does not have to be in the graph. Further, parallel arcs are not allowed, and self-loops are not allowed. The source and the sink are distinct nodes in the network, but the sink may be unreachable from the source.\n",
    " \n",
    "\n",
    "We begin by importing the Pyomo package and other necessary functionality to run on local computer or google colab."
   ]
  },
  {
   "cell_type": "code",
   "execution_count": null,
   "metadata": {},
   "outputs": [],
   "source": [
    "# If using this on Google collab, we need to install the packages\n",
    "try:\n",
    "  import google.colab\n",
    "  IN_COLAB = True\n",
    "except:\n",
    "  IN_COLAB = False\n",
    "\n",
    "# Let's start with Pyomo\n",
    "if IN_COLAB:\n",
    "    !pip install -q pyomo\n",
    "\n",
    "#uploading other files from computer to colab\n",
    "if IN_COLAB:\n",
    "  !wget https://raw.githubusercontent.com/Pyomo/PyomoGallery/refs/heads/master/maxflow/maxflow.dat\n",
    "\n",
    "# Let's install the LP/MIP solver GLPK\n",
    "if IN_COLAB:\n",
    "    !apt-get install -y -qq glpk-utils\n",
    "    !pip install git+https://github.com/bruscalia/gethighs\n"
   ]
  },
  {
   "cell_type": "markdown",
   "metadata": {},
   "source": [
    "## Problem Statement\n",
    "\n",
    "The max flow problem can be formulated mathematically as a linear programming problem using the following model.\n",
    "\n",
    "## Pyomo Formulation\n",
    "\n",
    "We begin by importing the Pyomo package and other necessary functionality to run on local computer or google colab. An abstract model is used to allow for the code to be repurposed for other data sets."
   ]
  },
  {
   "cell_type": "code",
   "execution_count": null,
   "metadata": {
    "collapsed": true
   },
   "outputs": [],
   "source": [
    "#imports pyomo package\n",
    "import pyomo.environ as pyo\n",
    "#imports solver HiGHS\n",
    "from gethighs import HiGHS\n",
    "\n",
    "# Define the solver GLPK and HiGHS\n",
    "if IN_COLAB:\n",
    "    opt_glpk = pyo.SolverFactory('glpk', executable='/usr/bin/glpsol')\n",
    "  \n",
    "else:\n",
    "    opt_glpk = pyo.SolverFactory('glpk')\n",
    "    opt_HiGHS = HiGHS()\n",
    "# Here we could use another solver, e.g. gurobi or cplex\n",
    "# opt_gurobi = SolverFactory('gurobi')\n",
    "\n",
    "\n",
    "#sets infinity to a float value\n",
    "infinity = float('inf')\n",
    "\n",
    "#creates an abstract model named model\n",
    "model = pyo.AbstractModel()"
   ]
  },
  {
   "cell_type": "markdown",
   "metadata": {},
   "source": [
    "### Sets\n",
    "\n",
    " $N$ = nodes in the network  \n",
    " $A$ = network arcs\n",
    "\n",
    "The sets $N$ and $A$ are declared abstractly using the `Set` component:"
   ]
  },
  {
   "cell_type": "code",
   "execution_count": null,
   "metadata": {
    "collapsed": true
   },
   "outputs": [],
   "source": [
    "# Nodes in the network\n",
    "# creates an empty set of nodes in the network to be filled later\n",
    "model.N = pyo.Set(doc = 'nodes')\n",
    "\n",
    "# Network arcs\n",
    "# creates an empty set of arcs in the network which connect two nodes (there are N^2 arcs)\n",
    "model.A = pyo.Set(within=model.N*model.N, doc = 'arcs')"
   ]
  },
  {
   "cell_type": "markdown",
   "metadata": {},
   "source": [
    "### Parameters\n",
    "\n",
    " $s$ = source node  \n",
    " $t$ = sink node  \n",
    " $c_{ij}$ = arc flow capacity, $\\forall (i,j) \\in A$\n",
    " \n",
    "Similarly, the model parameters are defined abstractly using the `Param` component:"
   ]
  },
  {
   "cell_type": "code",
   "execution_count": null,
   "metadata": {},
   "outputs": [],
   "source": [
    "# Source node\n",
    "# origin of flow and a parameter within the set of nodes\n",
    "model.s = pyo.Param(within=model.N, doc = 'source node')\n",
    "\n",
    "# Sink node\n",
    "# end of flow and a parameter within the set of nodes\n",
    "model.t = pyo.Param(within=model.N, doc = 'sink node')\n",
    "\n",
    "# Flow capacity limits\n",
    "# upper bound of flow for each arc\n",
    "model.c = pyo.Param(model.A, doc= 'flow capacity')"
   ]
  },
  {
   "cell_type": "markdown",
   "metadata": {},
   "source": [
    "### Variables\n",
    " $f_{i,j}$ = arc flow, $\\forall (i,j) \\in A$\n",
    "\n",
    "The `within` option is used in these parameter declarations to define expected properties of the parameters.  This information is used to perform error checks on the data that is used to initialize the parameter components.\n",
    "\n",
    "The `Var` component is used to define the decision variables:"
   ]
  },
  {
   "cell_type": "code",
   "execution_count": null,
   "metadata": {
    "collapsed": true
   },
   "outputs": [],
   "source": [
    "# The flow over each arc\n",
    "# variable for flow over each arc which is greater than zero (accounting for later constraints)\n",
    "model.f = pyo.Var(model.A, domain=pyo.NonNegativeReals, doc = 'flow over arc')"
   ]
  },
  {
   "cell_type": "markdown",
   "metadata": {},
   "source": [
    "### Objective\n",
    "\n",
    "Maximize the flow into the sink nodes  \n",
    " $\\max \\sum_{\\{i \\mid (i,t) \\in A\\}} c_{i,t} f_{i,t}$\n",
    "\n",
    "The `within` option is used to restrict the domain of the decision variables to the non-negative reals. This eliminates the need for explicit bound constraints for variables.\n",
    "\n",
    "The `Objective` component is used to define the cost objective.  This component uses a rule function to construct the objective expression:"
   ]
  },
  {
   "cell_type": "code",
   "execution_count": null,
   "metadata": {
    "collapsed": true
   },
   "outputs": [],
   "source": [
    "# Maximize the flow into the sink nodes\n",
    "def total_rule(model):\n",
    "    '''\n",
    "    Function to sum the arc capacity times the flow over each arc\n",
    "    \n",
    "    Parameters\n",
    "    ----------\n",
    "    model (AbstractModel): The model for which the objctive function to solve\n",
    "    \n",
    "    Returns\n",
    "    -------\n",
    "    summation: The sum of the flow over each arc times the capacity of the arc\n",
    "    '''\n",
    "    #iterates over flow (i) and sink node (j) in the set of arcs\n",
    "    return pyo.summation(model.f[i,j] for (i, j) in model.A if j == pyo.value(model.t))\n",
    "#sets the objective function to maximize the total flow into the sink node\n",
    "model.total = pyo.Objective(rule=total_rule, sense=pyo.maximize)"
   ]
  },
  {
   "cell_type": "markdown",
   "metadata": {},
   "source": [
    "### Constraints\n",
    "\n",
    "Enforce an upper limit on the flow across each arc  \n",
    " $f_{i,j} \\leq c_{i,j}$, $\\forall (i,j) \\in A$\n",
    "\n",
    "Enforce flow through each node  \n",
    " $\\sum_{\\{i \\mid (i,j) \\in A\\}} f_{i,j} = \\sum_{\\{i \\mid (j,i) \\in A\\}} f_{j,i}$, $\\forall j \\in N - \\{s,t\\}$\n",
    " \n",
    "Flow lower bound  \n",
    " $f_{i,j} \\geq 0$, $\\forall (i,j) \\in A$\n",
    "\n",
    "Similarly, rule functions are used to define constraint expressions in the `Constraint` component:"
   ]
  },
  {
   "cell_type": "code",
   "execution_count": null,
   "metadata": {
    "collapsed": true
   },
   "outputs": [],
   "source": [
    "# Enforce an upper limit on the flow across each arc\n",
    "#the flow over each arc should be less than or equal to the capacity of the arc\n",
    "def limit_rule(model, i, j):\n",
    "    '''\n",
    "    Function to limit the flow over each arc to the capacity of the arc\n",
    "    \n",
    "    Parameters\n",
    "    ----------\n",
    "    model (AbstractModel): The model for which the constraint is applied\n",
    "    i (int): The source node of the arc\n",
    "    j (int): The sink node of the arc\n",
    "    \n",
    "    Returns\n",
    "    -------\n",
    "    inequality: The constraint that the flow over each arc should be less than or equal to the capacity of the arc\n",
    "    '''\n",
    "    return model.f[i,j] <= model.c[i, j]\n",
    "#sets constraint that all arcs are following limit rule\n",
    "model.limit = pyo.Constraint(model.A, rule=limit_rule)\n",
    "\n",
    "# Enforce flow through each node\n",
    "#flow into a node should be equal to the flow out of the node\n",
    "def flow_rule(model, k):\n",
    "    '''\n",
    "    Function to enforce flow through each node constraint\n",
    "    \n",
    "    Parameters\n",
    "    ----------\n",
    "    model (AbstractModel): The model for which the constraint is applied\n",
    "    k (int): The node in the network\n",
    "    '''\n",
    "    if k == pyo.value(model.s) or k == pyo.value(model.t):\n",
    "        return pyo.Constraint.Skip\n",
    "    inFlow  = pyo.summation(model.f[i,j] for (i,j) in model.A if j == k)\n",
    "    outFlow = pyo.summation(model.f[i,j] for (i,j) in model.A if i == k)\n",
    "    #flow into a node(from a source node) should be equal to the flow out of the node (to a sink node)\n",
    "    return inFlow == outFlow\n",
    "#sets constraint that all nodes are following flow rule\n",
    "model.flow = pyo.Constraint(model.N, rule=flow_rule)"
   ]
  },
  {
   "cell_type": "markdown",
   "metadata": {},
   "source": [
    "## Model Data\n",
    "\n",
    "Since this is an abstract Pyomo model, the set and parameter values need to be provided to initialize the model.  The following data command file provides a synthetic data set:"
   ]
  },
  {
   "cell_type": "code",
   "execution_count": 8,
   "metadata": {},
   "outputs": [
    {
     "name": "stdout",
     "output_type": "stream",
     "text": [
      "set N := Zoo A B C D E Home;\r\n",
      "set A := (Zoo,A) (Zoo,B) (A,C) (A,D) (B,A) (B,C) (C,D) (C,E) (D,E) (D,Home) (E,Home);\r\n",
      "\r\n",
      "param s := Zoo;\r\n",
      "param t := Home;\r\n",
      "param: c :=\r\n",
      "Zoo A 11\r\n",
      "Zoo B 8\r\n",
      "A C 5\r\n",
      "A D 8\r\n",
      "B A 4\r\n",
      "B C 3\r\n",
      "C D 2\r\n",
      "C E 4\r\n",
      "D E 5\r\n",
      "D Home 8\r\n",
      "E Home 6;\r\n"
     ]
    }
   ],
   "source": [
    "!cat maxflow.dat"
   ]
  },
  {
   "cell_type": "markdown",
   "metadata": {},
   "source": [
    "Set data is defined with the `set` command, and parameter data is defined with the `param` command.\n",
    "\n",
    "This data set considers the problem of maximizing flow in a zoo. A panda is about to give birth at the zoo! Officials anticipate that attendance will skyrocket to see the new, adorable baby panda. There's one particular residential area called \"Home\" that is full of panda loving families and there's a fear that the increased number of people visiting the zoo will overload the public transportation system. It will be especially bad in the evening since the zoo closes about the same time as rush hour, so everyone will be trying to find space on the already crowded buses and subways. As a city planner, you were given a map of routes from the zoo to Home, along with the estimated number of families that could go on each route. Additionally, it was estimated that 16 families from Home will visit each day, and it's your task to figure out if this will overload the public transportation system, and, if it does, how could the system be improved?\n",
    "\n",
    "## Solution\n",
    "\n",
    "Pyomo includes a `pyomo` command that automates the construction and optimization of models.  The GLPK solver can be used in this simple example:"
   ]
  },
  {
   "cell_type": "markdown",
   "metadata": {},
   "source": [
    "Install the MIP solver GLPK and then solve the model."
   ]
  },
  {
   "cell_type": "code",
   "execution_count": 9,
   "metadata": {},
   "outputs": [
    {
     "name": "stdout",
     "output_type": "stream",
     "text": [
      "[    0.00] Setting up Pyomo environment\r\n",
      "[    0.00] Applying Pyomo preprocessing actions\r\n",
      "[    0.00] Creating model\r\n",
      "[    0.02] Applying solver\r\n",
      "[    0.06] Processing results\r\n",
      "    Number of solutions: 1\r\n",
      "    Solution Information\r\n",
      "      Gap: 0.0\r\n",
      "      Status: feasible\r\n",
      "      Function Value: 14.0\r\n",
      "    Solver results file: results.json\r\n",
      "[    0.06] Applying Pyomo postprocessing actions\r\n",
      "[    0.06] Pyomo Finished\r\n"
     ]
    }
   ],
   "source": [
    "# Let's install the LP/MIP solver GLPK\n",
    "if IN_COLAB:\n",
    "    !apt-get install -y -qq glpk-utils\n",
    "\n",
    "# Define the solver GLPK\n",
    "if IN_COLAB:\n",
    "    opt_glpk = SolverFactory('glpk', executable='/usr/bin/glpsol')\n",
    "else:\n",
    "    opt_glpk = SolverFactory('glpk')\n",
    "# Here we could use another solver, e.g. gurobi or cplex\n",
    "# opt_gurobi = SolverFactory('gurobi')\n",
    "\n",
    "#creating a model instance for the abstract model using the data in maxflow.dat\n",
    "instance = model.create_instance('maxflow.dat')\n",
    "\n",
    "# We obtain the solution of model instance with GLPK\n",
    "result_obj = opt_glpk.solve(instance, tee=False)\n",
    "instance.display()"
   ]
  },
  {
   "cell_type": "markdown",
   "metadata": {},
   "source": [
    "This output tells us how many people should travel along each route for the optimal solution. More importantly, though, is the line which says our objective value is 14. This means that at most 14 families can arrive at Home. However, we were told 16 families from Home were expected to visit the zoo each day. Therefore, unless something is done, the public transportation network in place will be overloaded."
   ]
  },
  {
   "cell_type": "markdown",
   "metadata": {},
   "source": [
    "## References\n",
    "\n",
    "* A. Schrijver, (2002). \"On the history of the transportation and maximum flow problems\". Mathematical Programming 91 (3): 437–445. "
   ]
  }
 ],
 "metadata": {
  "kernelspec": {
   "display_name": "Python 3",
   "language": "python",
   "name": "python3"
  },
  "language_info": {
   "codemirror_mode": {
    "name": "ipython",
    "version": 3
   },
   "file_extension": ".py",
   "mimetype": "text/x-python",
   "name": "python",
   "nbconvert_exporter": "python",
   "pygments_lexer": "ipython3",
   "version": "3.6.1"
  }
 },
 "nbformat": 4,
 "nbformat_minor": 1
}
